{
 "cells": [
  {
   "cell_type": "markdown",
   "metadata": {},
   "source": [
    "# Amazon Sales Analysis - Exploratory Data Analysis (EDA)\n",
    "\n",
    "**Team:** CAP_3764_2025_Fall_Team_1  \n",
    "\n",
    "## Objectives\n",
    "1. Compute summary statistics for numerical variables\n",
    "2. Analyze categorical variables\n",
    "3. Create summary tables\n",
    "4. Generate visualizations"
   ]
  },
  {
   "cell_type": "code",
   "execution_count": null,
   "metadata": {},
   "outputs": [],
   "source": [
    "# Import libraries\n",
    "import pandas as pd\n",
    "import numpy as np\n",
    "import matplotlib.pyplot as plt\n",
    "import seaborn as sns\n",
    "import plotly.express as px\n",
    "\n",
    "# Set display options\n",
    "pd.set_option('display.max_columns', None)\n",
    "sns.set_style('whitegrid')\n",
    "plt.rcParams['figure.figsize'] = (14, 6)"
   ]
  },
  {
   "cell_type": "markdown",
   "metadata": {},
   "source": [
    "## 1. Load Cleaned Data"
   ]
  },
  {
   "cell_type": "code",
   "execution_count": null,
   "metadata": {},
   "outputs": [],
   "source": [
    "# Load cleaned dataset\n",
    "df = pd.read_csv('../data/processed/bsr_visual_data_clean.csv')\n",
    "print(f\"Dataset shape: {df.shape}\")\n",
    "df.head()"
   ]
  },
  {
   "cell_type": "markdown",
   "metadata": {},
   "source": [
    "## 2. Summary Statistics for Numerical Variables"
   ]
  },
  {
   "cell_type": "code",
   "execution_count": null,
   "metadata": {},
   "outputs": [],
   "source": [
    "# Identify numerical columns\n",
    "numerical_cols = df.select_dtypes(include=[np.number]).columns.tolist()\n",
    "print(f\"Numerical columns: {len(numerical_cols)}\")\n",
    "print(numerical_cols)"
   ]
  },
  {
   "cell_type": "code",
   "execution_count": null,
   "metadata": {},
   "outputs": [],
   "source": [
    "# Compute descriptive statistics\n",
    "df[numerical_cols].describe()"
   ]
  },
  {
   "cell_type": "code",
   "execution_count": null,
   "metadata": {},
   "outputs": [],
   "source": [
    "# Additional statistics\n",
    "print(\"Skewness:\")\n",
    "print(df[numerical_cols].skew())\n",
    "print(\"\\nKurtosis:\")\n",
    "print(df[numerical_cols].kurtosis())"
   ]
  },
  {
   "cell_type": "markdown",
   "metadata": {},
   "source": [
    "## 3. Analysis of Categorical Variables"
   ]
  },
  {
   "cell_type": "code",
   "execution_count": null,
   "metadata": {},
   "outputs": [],
   "source": [
    "# Identify categorical columns\n",
    "categorical_cols = df.select_dtypes(include=['object']).columns.tolist()\n",
    "print(f\"Categorical columns: {len(categorical_cols)}\")\n",
    "print(categorical_cols)"
   ]
  },
  {
   "cell_type": "code",
   "execution_count": null,
   "metadata": {},
   "outputs": [],
   "source": [
    "# Analyze each categorical variable\n",
    "for col in categorical_cols[:5]:  # First 5 to avoid overwhelming output\n",
    "    print(f\"\\n{'='*50}\")\n",
    "    print(f\"Column: {col}\")\n",
    "    print(f\"{'='*50}\")\n",
    "    print(f\"Unique values: {df[col].nunique()}\")\n",
    "    print(f\"\\nTop 10 values:\")\n",
    "    print(df[col].value_counts().head(10))"
   ]
  },
  {
   "cell_type": "markdown",
   "metadata": {},
   "source": [
    "## 4. Summary Tables"
   ]
  },
  {
   "cell_type": "code",
   "execution_count": null,
   "metadata": {},
   "outputs": [],
   "source": [
    "# Summary table: Sales metrics by brand (top 10 brands)\n",
    "if 'brand' in df.columns and 'bsr_best' in df.columns:\n",
    "    brand_summary = df.groupby('brand').agg({\n",
    "        'bsr_best': ['mean', 'min', 'max'],\n",
    "        'review_count': 'mean',\n",
    "        'avg_rating': 'mean',\n",
    "        'asin': 'count'\n",
    "    }).round(2)\n",
    "    brand_summary.columns = ['_'.join(col).strip() for col in brand_summary.columns.values]\n",
    "    brand_summary = brand_summary.sort_values('asin_count', ascending=False).head(10)\n",
    "    print(\"Top 10 Brands Summary:\")\n",
    "    display(brand_summary)"
   ]
  },
  {
   "cell_type": "code",
   "execution_count": null,
   "metadata": {},
   "outputs": [],
   "source": [
    "# Correlation matrix for key numerical variables\n",
    "key_vars = ['bsr_best', 'review_count', 'avg_rating', 'clutter_score', \n",
    "            'edge_density', 'color_entropy']\n",
    "available_vars = [var for var in key_vars if var in df.columns]\n",
    "correlation_matrix = df[available_vars].corr()\n",
    "print(\"Correlation Matrix:\")\n",
    "display(correlation_matrix)"
   ]
  },
  {
   "cell_type": "markdown",
   "metadata": {},
   "source": [
    "## 5. Visualizations"
   ]
  },
  {
   "cell_type": "code",
   "execution_count": null,
   "metadata": {},
   "outputs": [],
   "source": [
    "# Distribution of BSR (Best Seller Rank)\n",
    "if 'bsr_best' in df.columns:\n",
    "    fig, axes = plt.subplots(1, 2, figsize=(15, 5))\n",
    "    \n",
    "    # Histogram\n",
    "    axes[0].hist(df['bsr_best'].dropna(), bins=50, edgecolor='black')\n",
    "    axes[0].set_title('Distribution of Best Seller Rank', fontsize=14, fontweight='bold')\n",
    "    axes[0].set_xlabel('BSR')\n",
    "    axes[0].set_ylabel('Frequency')\n",
    "    \n",
    "    # Boxplot\n",
    "    axes[1].boxplot(df['bsr_best'].dropna())\n",
    "    axes[1].set_title('Boxplot of Best Seller Rank', fontsize=14, fontweight='bold')\n",
    "    axes[1].set_ylabel('BSR')\n",
    "    \n",
    "    plt.tight_layout()\n",
    "    plt.show()"
   ]
  },
  {
   "cell_type": "code",
   "execution_count": null,
   "metadata": {},
   "outputs": [],
   "source": [
    "# Correlation heatmap\n",
    "if len(available_vars) > 0:\n",
    "    plt.figure(figsize=(10, 8))\n",
    "    sns.heatmap(correlation_matrix, annot=True, cmap='coolwarm', center=0, \n",
    "                square=True, linewidths=1, cbar_kws={\"shrink\": 0.8})\n",
    "    plt.title('Correlation Heatmap - Key Variables', fontsize=14, fontweight='bold')\n",
    "    plt.tight_layout()\n",
    "    plt.show()"
   ]
  },
  {
   "cell_type": "code",
   "execution_count": null,
   "metadata": {},
   "outputs": [],
   "source": [
    "# Review count vs Average rating scatter plot\n",
    "if 'review_count' in df.columns and 'avg_rating' in df.columns:\n",
    "    plt.figure(figsize=(12, 6))\n",
    "    plt.scatter(df['review_count'], df['avg_rating'], alpha=0.5)\n",
    "    plt.xlabel('Review Count', fontsize=12)\n",
    "    plt.ylabel('Average Rating', fontsize=12)\n",
    "    plt.title('Review Count vs Average Rating', fontsize=14, fontweight='bold')\n",
    "    plt.grid(True, alpha=0.3)\n",
    "    plt.tight_layout()\n",
    "    plt.show()"
   ]
  },
  {
   "cell_type": "code",
   "execution_count": null,
   "metadata": {},
   "outputs": [],
   "source": [
    "# Brand distribution (top 15 brands)\n",
    "if 'brand' in df.columns:\n",
    "    top_brands = df['brand'].value_counts().head(15)\n",
    "    \n",
    "    plt.figure(figsize=(12, 6))\n",
    "    top_brands.plot(kind='barh')\n",
    "    plt.xlabel('Count', fontsize=12)\n",
    "    plt.ylabel('Brand', fontsize=12)\n",
    "    plt.title('Top 15 Brands by Product Count', fontsize=14, fontweight='bold')\n",
    "    plt.tight_layout()\n",
    "    plt.show()"
   ]
  },
  {
   "cell_type": "code",
   "execution_count": null,
   "metadata": {},
   "outputs": [],
   "source": [
    "# Interactive visualization: BSR vs Image Quality Metrics\n",
    "if 'bsr_best' in df.columns and 'clutter_score' in df.columns:\n",
    "    sample_df = df.sample(min(1000, len(df)))  # Sample for performance\n",
    "    \n",
    "    fig = px.scatter(sample_df, \n",
    "                     x='clutter_score', \n",
    "                     y='bsr_best',\n",
    "                     color='avg_rating' if 'avg_rating' in df.columns else None,\n",
    "                     hover_data=['brand', 'review_count'] if 'brand' in df.columns else None,\n",
    "                     title='BSR vs Image Clutter Score',\n",
    "                     labels={'clutter_score': 'Clutter Score', 'bsr_best': 'Best Seller Rank'})\n",
    "    fig.show()"
   ]
  },
  {
   "cell_type": "markdown",
   "metadata": {},
   "source": [
    "## 6. Key Insights\n",
    "\n",
    "Based on the exploratory analysis:\n",
    "\n",
    "1. **Dataset Overview:** [Add observations about dataset size and completeness]\n",
    "2. **Sales Performance:** [Add insights about BSR distribution]\n",
    "3. **Image Quality:** [Add insights about image metrics]\n",
    "4. **Brand Analysis:** [Add insights about top brands]\n",
    "5. **Correlations:** [Add insights about key relationships]\n",
    "\n",
    "**Next Steps:**\n",
    "- Further analysis of specific product categories\n",
    "- Deep dive into image quality impact on sales\n",
    "- Predictive modeling for sales forecasting"
   ]
  }
 ],
 "metadata": {
  "kernelspec": {
   "display_name": "Python 3 (ipykernel)",
   "language": "python",
   "name": "python3"
  },
  "language_info": {
   "codemirror_mode": {
    "name": "ipython",
    "version": 3
   },
   "file_extension": ".py",
   "mimetype": "text/x-python",
   "name": "python",
   "nbconvert_exporter": "python",
   "pygments_lexer": "ipython3",
   "version": "3.11.0"
  }
 },
 "nbformat": 4,
 "nbformat_minor": 4
}
