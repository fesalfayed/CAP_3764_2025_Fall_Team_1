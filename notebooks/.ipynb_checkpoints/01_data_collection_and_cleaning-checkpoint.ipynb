{
 "cells": [
  {
   "cell_type": "markdown",
   "metadata": {},
   "source": "# Amazon Sales Analysis - Data Collection and Cleaning\n\n**Team:** CAP_3764_2025_Fall_Team_1  \n**Dataset:** BSR Visual Data - Amazon Product Sales with Image Quality Metrics  \n**Data Source:** Self-collected using Amazon SP-API (Selling Partner API)\n\n## Data Collection Overview\n\nOur team collected data from **18,000+ Amazon product listings** using:\n- **Amazon SP-API** for product metadata, pricing, and sales indicators\n- **Custom web scraping tools** for additional product details\n- **Computer vision processing** for image quality metrics\n\n## Objectives\n1. Load the dataset using our custom data collection module\n2. Perform initial data cleaning (missing values, duplicates)\n3. Explore data structure and variable types"
  },
  {
   "cell_type": "code",
   "execution_count": null,
   "metadata": {},
   "outputs": [],
   "source": [
    "# Import required libraries\n",
    "import sys\n",
    "sys.path.append('../src')\n",
    "\n",
    "import pandas as pd\n",
    "import numpy as np\n",
    "import matplotlib.pyplot as plt\n",
    "import seaborn as sns\n",
    "\n",
    "# Import custom module\n",
    "from data_collection import load_bsr_data, clean_data, get_numerical_columns, get_categorical_columns\n",
    "\n",
    "# Set display options\n",
    "pd.set_option('display.max_columns', None)\n",
    "pd.set_option('display.max_rows', 100)\n",
    "\n",
    "# Set visualization style\n",
    "sns.set_style('whitegrid')\n",
    "plt.rcParams['figure.figsize'] = (12, 6)"
   ]
  },
  {
   "cell_type": "markdown",
   "source": "## Data Collection Methodology\n\n### API-Based Collection\nWe utilized the **Amazon SP-API (Selling Partner API)** to extract:\n- Product ASIN (unique identifier)\n- Product titles and brand information\n- Best Seller Rank (BSR) - primary sales indicator\n- Review counts and average ratings\n- Product URLs and metadata\n\n### Image Processing Pipeline\nFor each product, we:\n1. Downloaded main product images from Amazon\n2. Applied computer vision algorithms to compute quality metrics:\n   - **Edge Density:** Measures sharpness and visual detail\n   - **Background Analysis:** Calculates white/neutral background percentages\n   - **Color Clustering:** Identifies significant color groups and diversity\n   - **Clutter Score:** Composite metric of visual complexity\n\n### Data Enrichment\n- Combined API data with computed image features\n- Calculated z-score normalized versions of image metrics\n- Removed duplicates and handled missing values\n\n**Final Dataset:** 18,148 unique Amazon products with 30+ features",
   "metadata": {}
  },
  {
   "cell_type": "markdown",
   "metadata": {},
   "source": [
    "## 1. Data Loading"
   ]
  },
  {
   "cell_type": "code",
   "execution_count": null,
   "metadata": {},
   "outputs": [],
   "source": [
    "# Load the dataset\n",
    "df_raw = load_bsr_data('../data/raw/bsr_visual_data.csv')"
   ]
  },
  {
   "cell_type": "code",
   "execution_count": null,
   "metadata": {},
   "outputs": [],
   "source": [
    "# Display first few rows\n",
    "df_raw.head()"
   ]
  },
  {
   "cell_type": "markdown",
   "metadata": {},
   "source": [
    "## 2. Initial Data Cleaning"
   ]
  },
  {
   "cell_type": "code",
   "execution_count": null,
   "metadata": {},
   "outputs": [],
   "source": [
    "# Clean the data\n",
    "df_clean = clean_data(df_raw)"
   ]
  },
  {
   "cell_type": "code",
   "execution_count": null,
   "metadata": {},
   "outputs": [],
   "source": [
    "# Check data types\n",
    "print(\"Data Types:\")\n",
    "print(df_clean.dtypes)"
   ]
  },
  {
   "cell_type": "markdown",
   "metadata": {},
   "source": [
    "## 3. Variable Classification"
   ]
  },
  {
   "cell_type": "code",
   "execution_count": null,
   "metadata": {},
   "outputs": [],
   "source": [
    "# Get numerical and categorical columns\n",
    "num_cols = get_numerical_columns(df_clean)\n",
    "cat_cols = get_categorical_columns(df_clean)\n",
    "\n",
    "print(f\"Numerical Variables ({len(num_cols)}):\")\n",
    "print(num_cols)\n",
    "print(f\"\\nCategorical Variables ({len(cat_cols)}):\")\n",
    "print(cat_cols)"
   ]
  },
  {
   "cell_type": "markdown",
   "metadata": {},
   "source": [
    "## 4. Save Cleaned Data"
   ]
  },
  {
   "cell_type": "code",
   "execution_count": null,
   "metadata": {},
   "outputs": [],
   "source": [
    "# Save cleaned dataset\n",
    "df_clean.to_csv('../data/processed/bsr_visual_data_clean.csv', index=False)\n",
    "print(\"Cleaned data saved to: data/processed/bsr_visual_data_clean.csv\")"
   ]
  }
 ],
 "metadata": {
  "kernelspec": {
   "display_name": "Python 3 (ipykernel)",
   "language": "python",
   "name": "python3"
  },
  "language_info": {
   "codemirror_mode": {
    "name": "ipython",
    "version": 3
   },
   "file_extension": ".py",
   "mimetype": "text/x-python",
   "name": "python",
   "nbconvert_exporter": "python",
   "pygments_lexer": "ipython3",
   "version": "3.11.0"
  }
 },
 "nbformat": 4,
 "nbformat_minor": 4
}